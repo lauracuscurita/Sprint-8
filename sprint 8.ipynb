{
 "cells": [
  {
   "cell_type": "code",
   "execution_count": null,
   "metadata": {},
   "outputs": [],
   "source": [
    "%pip install mysql-connector-python"
   ]
  },
  {
   "cell_type": "code",
   "execution_count": null,
   "metadata": {},
   "outputs": [],
   "source": [
    "import mysql.connector as sql\n",
    "\n",
    "mydb= sql.connect(\n",
    "    host= \"localhost\",\n",
    "    user=\"root\",\n",
    "    password=\"itacademy\",\n",
    "    database=\"sprint4\")\n",
    "print(mydb)"
   ]
  },
  {
   "cell_type": "code",
   "execution_count": null,
   "metadata": {},
   "outputs": [],
   "source": [
    "import mysql.connector as sql\n",
    "import pandas as pd\n",
    "\n",
    "cursor = mydb.cursor()\n",
    "cursor.execute(\"SELECT * FROM companies\")\n",
    "resultados = cursor.fetchall()\n",
    "columnas = [fila[0] for fila in cursor.description]\n",
    "companies = pd.DataFrame(resultados, columns=columnas)\n",
    "companies"
   ]
  },
  {
   "cell_type": "code",
   "execution_count": null,
   "metadata": {},
   "outputs": [],
   "source": [
    "import mysql.connector as sql\n",
    "import pandas as pd\n",
    "\n",
    "cursor = mydb.cursor()\n",
    "cursor.execute(\"SELECT * FROM card_status\")\n",
    "resultados = cursor.fetchall()\n",
    "columnas = [fila[0] for fila in cursor.description]\n",
    "card_status = pd.DataFrame(resultados, columns=columnas)\n",
    "card_status "
   ]
  },
  {
   "cell_type": "code",
   "execution_count": null,
   "metadata": {},
   "outputs": [],
   "source": [
    "import mysql.connector as sql\n",
    "import pandas as pd\n",
    "\n",
    "cursor = mydb.cursor()\n",
    "cursor.execute(\"SELECT * FROM credit_cards\")\n",
    "resultados = cursor.fetchall()\n",
    "columnas = [fila[0] for fila in cursor.description]\n",
    "credit_cards = pd.DataFrame(resultados, columns=columnas)\n",
    "credit_cards"
   ]
  },
  {
   "cell_type": "code",
   "execution_count": null,
   "metadata": {},
   "outputs": [],
   "source": [
    "import mysql.connector as sql\n",
    "import pandas as pd\n",
    "\n",
    "cursor = mydb.cursor()\n",
    "cursor.execute(\"SELECT * FROM product_transaction\")\n",
    "resultados = cursor.fetchall()\n",
    "columnas = [fila[0] for fila in cursor.description]\n",
    "product_transaction = pd.DataFrame(resultados, columns=columnas)\n",
    "product_transaction"
   ]
  },
  {
   "cell_type": "code",
   "execution_count": null,
   "metadata": {},
   "outputs": [],
   "source": [
    "import mysql.connector as sql\n",
    "import pandas as pd\n",
    "\n",
    "cursor = mydb.cursor()\n",
    "cursor.execute(\"SELECT * FROM products\")\n",
    "resultados = cursor.fetchall()\n",
    "columnas = [fila[0] for fila in cursor.description]\n",
    "products = pd.DataFrame(resultados, columns=columnas)\n",
    "products"
   ]
  },
  {
   "cell_type": "code",
   "execution_count": null,
   "metadata": {},
   "outputs": [],
   "source": [
    "import mysql.connector as sql\n",
    "import pandas as pd\n",
    "\n",
    "cursor = mydb.cursor()\n",
    "cursor.execute(\"SELECT * FROM transactions\")\n",
    "resultados = cursor.fetchall()\n",
    "columnas = [fila[0] for fila in cursor.description]\n",
    "transactions = pd.DataFrame(resultados, columns=columnas)\n",
    "transactions"
   ]
  },
  {
   "cell_type": "code",
   "execution_count": null,
   "metadata": {},
   "outputs": [],
   "source": [
    "import mysql.connector as sql\n",
    "import pandas as pd\n",
    "\n",
    "cursor = mydb.cursor()\n",
    "cursor.execute(\"SELECT * FROM user\")\n",
    "resultados = cursor.fetchall()\n",
    "columnas = [fila[0] for fila in cursor.description]\n",
    "user = pd.DataFrame(resultados, columns=columnas)\n",
    "user"
   ]
  },
  {
   "cell_type": "code",
   "execution_count": 24,
   "metadata": {},
   "outputs": [
    {
     "name": "stdout",
     "output_type": "stream",
     "text": [
      "id                int64\n",
      "product_name     object\n",
      "price            object\n",
      "colour           object\n",
      "weight          float64\n",
      "warehouse_id     object\n",
      "dtype: object\n"
     ]
    }
   ],
   "source": [
    "print(products.dtypes) # Para saber el ipo de variables de cada df"
   ]
  },
  {
   "cell_type": "code",
   "execution_count": 26,
   "metadata": {},
   "outputs": [
    {
     "name": "stdout",
     "output_type": "stream",
     "text": [
      "<class 'pandas.core.frame.DataFrame'>\n",
      "RangeIndex: 100 entries, 0 to 99\n",
      "Data columns (total 6 columns):\n",
      " #   Column        Non-Null Count  Dtype  \n",
      "---  ------        --------------  -----  \n",
      " 0   id            100 non-null    int64  \n",
      " 1   product_name  100 non-null    object \n",
      " 2   price         100 non-null    object \n",
      " 3   colour        100 non-null    object \n",
      " 4   weight        100 non-null    float64\n",
      " 5   warehouse_id  100 non-null    object \n",
      "dtypes: float64(1), int64(1), object(4)\n",
      "memory usage: 4.8+ KB\n"
     ]
    }
   ],
   "source": [
    "products.info()"
   ]
  }
 ],
 "metadata": {
  "kernelspec": {
   "display_name": "Python 3",
   "language": "python",
   "name": "python3"
  },
  "language_info": {
   "codemirror_mode": {
    "name": "ipython",
    "version": 3
   },
   "file_extension": ".py",
   "mimetype": "text/x-python",
   "name": "python",
   "nbconvert_exporter": "python",
   "pygments_lexer": "ipython3",
   "version": "3.12.5"
  }
 },
 "nbformat": 4,
 "nbformat_minor": 2
}
